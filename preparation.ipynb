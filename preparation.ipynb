{
  "nbformat": 4,
  "nbformat_minor": 0,
  "metadata": {
    "colab": {
      "name": "preparation.ipynb",
      "provenance": [],
      "authorship_tag": "ABX9TyMuzjZ4zfh26/wWrn6/ya5f",
      "include_colab_link": true
    },
    "kernelspec": {
      "name": "python3",
      "display_name": "Python 3"
    },
    "language_info": {
      "name": "python"
    }
  },
  "cells": [
    {
      "cell_type": "markdown",
      "metadata": {
        "id": "view-in-github",
        "colab_type": "text"
      },
      "source": [
        "<a href=\"https://colab.research.google.com/github/giutassarotti/testia/blob/main/preparation.ipynb\" target=\"_parent\"><img src=\"https://colab.research.google.com/assets/colab-badge.svg\" alt=\"Open In Colab\"/></a>"
      ]
    },
    {
      "cell_type": "code",
      "metadata": {
        "id": "rE_YESp2uSCv"
      },
      "source": [
        "!pip install -r requirements.txt"
      ],
      "execution_count": null,
      "outputs": []
    },
    {
      "cell_type": "code",
      "metadata": {
        "id": "xgCfrcZTvLpv"
      },
      "source": [
        "## LIBRARIES ###################################################################\n",
        "\n",
        "import pandas\n",
        "from sklearn.model_selection import train_test_split\n",
        "\n",
        "## FUNCTIONS ###################################################################\n",
        "\n",
        "def io_load_csv(csv_path):\n",
        "  return pandas.read_csv(csv_path)\n",
        "\n",
        "def split_train_test(dataframe):\n",
        "  train, test = train_test_split(dataframe, test_size=0.2)\n",
        "  train.name, test.name = 'train', 'test'\n",
        "  return train, test\n",
        "\n",
        "def io_save_dataframe_to_file(dataframe):\n",
        "  dataframe.to_csv(dataframe.name + \".csv\", index=False)\n",
        "\n",
        "def io_save_multiple_dataframes_to_file(dataframe_list):\n",
        "  list(map(io_save_dataframe_to_file, dataframe_list))\n"
      ],
      "execution_count": 1,
      "outputs": []
    },
    {
      "cell_type": "code",
      "metadata": {
        "id": "7lFFS9JBvbpD"
      },
      "source": [
        "csv_path = \"./dataset.csv\"\n",
        "\n",
        "## EXECUTION ###################################################################\n",
        "\n",
        "dataframe = io_load_csv(csv_path)\n",
        "\n",
        "dataframe_list = split_train_test(dataframe)\n",
        "io_save_multiple_dataframes_to_file(dataframe_list)"
      ],
      "execution_count": 2,
      "outputs": []
    }
  ]
}